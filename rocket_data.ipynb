{
  "nbformat": 4,
  "nbformat_minor": 0,
  "metadata": {
    "colab": {
      "provenance": []
    },
    "kernelspec": {
      "name": "python3",
      "display_name": "Python 3"
    },
    "language_info": {
      "name": "python"
    }
  },
  "cells": [
    {
      "cell_type": "code",
      "execution_count": null,
      "metadata": {
        "colab": {
          "base_uri": "https://localhost:8080/",
          "height": 686
        },
        "id": "HzCFttj2bmBZ",
        "outputId": "8666e87b-4e62-4ba2-d3d6-7f13bc1be220"
      },
      "outputs": [
        {
          "output_type": "stream",
          "name": "stdout",
          "text": [
            "Drive already mounted at /content/drive; to attempt to forcibly remount, call drive.mount(\"/content/drive\", force_remount=True).\n",
            "         time\n",
            "0        0.00\n",
            "1        0.01\n",
            "2        0.02\n",
            "3        0.03\n",
            "4        0.04\n",
            "...       ...\n",
            "10042  100.42\n",
            "10043  100.43\n",
            "10044  100.44\n",
            "10045  100.45\n",
            "10046  100.46\n",
            "\n",
            "[10047 rows x 1 columns]\n"
          ]
        },
        {
          "output_type": "error",
          "ename": "ValueError",
          "evalue": "unbounded slice",
          "traceback": [
            "\u001b[0;31m---------------------------------------------------------------------------\u001b[0m",
            "\u001b[0;31mValueError\u001b[0m                                Traceback (most recent call last)",
            "\u001b[0;32m/tmp/ipython-input-1911970988.py\u001b[0m in \u001b[0;36m<cell line: 0>\u001b[0;34m()\u001b[0m\n\u001b[1;32m     23\u001b[0m \u001b[0;31m#   df = pd.DataFrame({'time': time_data, 'data': channel_data})\u001b[0m\u001b[0;34m\u001b[0m\u001b[0;34m\u001b[0m\u001b[0m\n\u001b[1;32m     24\u001b[0m \u001b[0;34m\u001b[0m\u001b[0m\n\u001b[0;32m---> 25\u001b[0;31m   \u001b[0mdf\u001b[0m\u001b[0;34m.\u001b[0m\u001b[0minsert\u001b[0m\u001b[0;34m(\u001b[0m\u001b[0;34m-\u001b[0m\u001b[0;36m1\u001b[0m\u001b[0;34m,\u001b[0m \u001b[0;34mf\"{i}\"\u001b[0m\u001b[0;34m,\u001b[0m \u001b[0mchannel_data\u001b[0m\u001b[0;34m)\u001b[0m\u001b[0;34m\u001b[0m\u001b[0;34m\u001b[0m\u001b[0m\n\u001b[0m\u001b[1;32m     26\u001b[0m \u001b[0;34m\u001b[0m\u001b[0m\n\u001b[1;32m     27\u001b[0m \u001b[0;31m#   # Define the filename for the CSV\u001b[0m\u001b[0;34m\u001b[0m\u001b[0;34m\u001b[0m\u001b[0m\n",
            "\u001b[0;32m/usr/local/lib/python3.12/dist-packages/pandas/core/frame.py\u001b[0m in \u001b[0;36minsert\u001b[0;34m(self, loc, column, value, allow_duplicates)\u001b[0m\n\u001b[1;32m   5170\u001b[0m \u001b[0;34m\u001b[0m\u001b[0m\n\u001b[1;32m   5171\u001b[0m         \u001b[0mvalue\u001b[0m\u001b[0;34m,\u001b[0m \u001b[0mrefs\u001b[0m \u001b[0;34m=\u001b[0m \u001b[0mself\u001b[0m\u001b[0;34m.\u001b[0m\u001b[0m_sanitize_column\u001b[0m\u001b[0;34m(\u001b[0m\u001b[0mvalue\u001b[0m\u001b[0;34m)\u001b[0m\u001b[0;34m\u001b[0m\u001b[0;34m\u001b[0m\u001b[0m\n\u001b[0;32m-> 5172\u001b[0;31m         \u001b[0mself\u001b[0m\u001b[0;34m.\u001b[0m\u001b[0m_mgr\u001b[0m\u001b[0;34m.\u001b[0m\u001b[0minsert\u001b[0m\u001b[0;34m(\u001b[0m\u001b[0mloc\u001b[0m\u001b[0;34m,\u001b[0m \u001b[0mcolumn\u001b[0m\u001b[0;34m,\u001b[0m \u001b[0mvalue\u001b[0m\u001b[0;34m,\u001b[0m \u001b[0mrefs\u001b[0m\u001b[0;34m=\u001b[0m\u001b[0mrefs\u001b[0m\u001b[0;34m)\u001b[0m\u001b[0;34m\u001b[0m\u001b[0;34m\u001b[0m\u001b[0m\n\u001b[0m\u001b[1;32m   5173\u001b[0m \u001b[0;34m\u001b[0m\u001b[0m\n\u001b[1;32m   5174\u001b[0m     \u001b[0;32mdef\u001b[0m \u001b[0massign\u001b[0m\u001b[0;34m(\u001b[0m\u001b[0mself\u001b[0m\u001b[0;34m,\u001b[0m \u001b[0;34m**\u001b[0m\u001b[0mkwargs\u001b[0m\u001b[0;34m)\u001b[0m \u001b[0;34m->\u001b[0m \u001b[0mDataFrame\u001b[0m\u001b[0;34m:\u001b[0m\u001b[0;34m\u001b[0m\u001b[0;34m\u001b[0m\u001b[0m\n",
            "\u001b[0;32m/usr/local/lib/python3.12/dist-packages/pandas/core/internals/managers.py\u001b[0m in \u001b[0;36minsert\u001b[0;34m(self, loc, item, value, refs)\u001b[0m\n\u001b[1;32m   1374\u001b[0m             \u001b[0mvalue\u001b[0m \u001b[0;34m=\u001b[0m \u001b[0mensure_block_shape\u001b[0m\u001b[0;34m(\u001b[0m\u001b[0mvalue\u001b[0m\u001b[0;34m,\u001b[0m \u001b[0mndim\u001b[0m\u001b[0;34m=\u001b[0m\u001b[0mself\u001b[0m\u001b[0;34m.\u001b[0m\u001b[0mndim\u001b[0m\u001b[0;34m)\u001b[0m\u001b[0;34m\u001b[0m\u001b[0;34m\u001b[0m\u001b[0m\n\u001b[1;32m   1375\u001b[0m \u001b[0;34m\u001b[0m\u001b[0m\n\u001b[0;32m-> 1376\u001b[0;31m         \u001b[0mbp\u001b[0m \u001b[0;34m=\u001b[0m \u001b[0mBlockPlacement\u001b[0m\u001b[0;34m(\u001b[0m\u001b[0mslice\u001b[0m\u001b[0;34m(\u001b[0m\u001b[0mloc\u001b[0m\u001b[0;34m,\u001b[0m \u001b[0mloc\u001b[0m \u001b[0;34m+\u001b[0m \u001b[0;36m1\u001b[0m\u001b[0;34m)\u001b[0m\u001b[0;34m)\u001b[0m\u001b[0;34m\u001b[0m\u001b[0;34m\u001b[0m\u001b[0m\n\u001b[0m\u001b[1;32m   1377\u001b[0m         \u001b[0mblock\u001b[0m \u001b[0;34m=\u001b[0m \u001b[0mnew_block_2d\u001b[0m\u001b[0;34m(\u001b[0m\u001b[0mvalues\u001b[0m\u001b[0;34m=\u001b[0m\u001b[0mvalue\u001b[0m\u001b[0;34m,\u001b[0m \u001b[0mplacement\u001b[0m\u001b[0;34m=\u001b[0m\u001b[0mbp\u001b[0m\u001b[0;34m,\u001b[0m \u001b[0mrefs\u001b[0m\u001b[0;34m=\u001b[0m\u001b[0mrefs\u001b[0m\u001b[0;34m)\u001b[0m\u001b[0;34m\u001b[0m\u001b[0;34m\u001b[0m\u001b[0m\n\u001b[1;32m   1378\u001b[0m \u001b[0;34m\u001b[0m\u001b[0m\n",
            "\u001b[0;32minternals.pyx\u001b[0m in \u001b[0;36mpandas._libs.internals.BlockPlacement.__cinit__\u001b[0;34m()\u001b[0m\n",
            "\u001b[0;32minternals.pyx\u001b[0m in \u001b[0;36mpandas._libs.internals.slice_canonize\u001b[0;34m()\u001b[0m\n",
            "\u001b[0;31mValueError\u001b[0m: unbounded slice"
          ]
        }
      ],
      "source": [
        "#Initial try, didnt work\n",
        "\n",
        "from google.colab import drive\n",
        "drive.mount('/content/drive')\n",
        "\n",
        "import pandas as pd\n",
        "import h5py\n",
        "\n",
        "#gets the data file from my google drive and saves it to a variable\n",
        "data = h5py.File(\"//content//drive//MyDrive//Rocket Data//Cardiff_5_HOTFIRE.h5\")\n",
        "\n",
        "#instantiate a dataframe as a variable\n",
        "df = pd.DataFrame()\n",
        "\n",
        "# Go though each channel in the dataset\n",
        "for i in data[\"channels\"]:\n",
        "  # Access the time data for the channel\n",
        "  time_data = data[\"channels\"][f\"{i}\"][\"time\"][()]\n",
        "\n",
        "  # Access the data for the channel\n",
        "  channel_data = data[\"channels\"][f\"{i}\"][\"data\"][()]\n",
        "\n",
        "  # Create a pandas DataFrame with 'time' and the channel data\n",
        "  df = pd.DataFrame({'time': time_data, 'data': channel_data})\n",
        "\n",
        "  # Define the filename for the CSV\n",
        "  filename = f\"{i}.csv\"\n",
        "\n",
        "  # Save the DataFrame to a CSV file\n",
        "  df.to_csv(filename, index=False)\n",
        "\n",
        "  print(f\"Exported channel {i} with time data to '{filename}'\")\n",
        "\n",
        "\n"
      ]
    },
    {
      "cell_type": "code",
      "source": [
        "from google.colab import drive\n",
        "drive.mount('/content/drive')\n",
        "\n",
        "import pandas as pd\n",
        "import h5py\n",
        "\n",
        "#gets the file from my drive and saves it to a variable\n",
        "data = h5py.File(\"/content/drive/MyDrive/Rocket Data/Cardiff_5_HOTFIRE.h5\")\n",
        "\n",
        "#instantiates a dictionary for the data, making the first entry the time data\n",
        "data_array = {\"Time\" : data[\"channels\"][\"6AX_LOAD_CELL_FX\"][\"time\"][()]}\n",
        "\n",
        "#goes through each channel and adds the data to the dictionary\n",
        "for i in data[\"channels\"]:\n",
        "  data_array[f\"{i}\"] = data[\"channels\"][f\"{i}\"][\"data\"][()]\n",
        "\n",
        "#creates a pandas dataframe with the created dictionary\n",
        "df = pd.DataFrame(data_array)\n",
        "\n",
        "#saves the dataframe as a CSV File\n",
        "df.to_csv(\"Cardiff_5_hotfire.csv\", index=False)"
      ],
      "metadata": {
        "colab": {
          "base_uri": "https://localhost:8080/"
        },
        "id": "Cm1P_dMEm_4m",
        "outputId": "ba952696-b973-4967-a001-85918f5d789a"
      },
      "execution_count": null,
      "outputs": [
        {
          "output_type": "stream",
          "name": "stdout",
          "text": [
            "Mounted at /content/drive\n"
          ]
        }
      ]
    },
    {
      "cell_type": "code",
      "source": [
        "#generate animated graph\n",
        "from google.colab import drive\n",
        "drive.mount('/content/drive')\n",
        "\n",
        "import matplotlib.pyplot as plt\n",
        "import pandas as pd\n",
        "import h5py\n",
        "import os\n",
        "\n",
        "data = h5py.File(\"/content/drive/MyDrive/Rocket Data/Cardiff_5_HOTFIRE.h5\")\n",
        "\n",
        "data_array = {\n",
        "    \"Time\" : data[\"channels\"][\"6AX_LOAD_CELL_FX\"][\"time\"][()],\n",
        "    \"Thrust\" : data[\"channels\"][\"THRUST_STAND_LC1_CALIBRATED\"][\"data\"][()],\n",
        "    \"Propellant Flow Rate\" : data[\"channels\"][\"NITROUS_FT_1\"][\"data\"][()]\n",
        "    }\n",
        "\n",
        "df = pd.DataFrame(data_array)\n",
        "\n",
        "# Filter data for the time period 109 - 121\n",
        "df_filtered = df[(df['Time'] >= 72) & (df['Time'] <= 92)].reset_index(drop=True)\n",
        "\n",
        "\n",
        "# Create a directory to save the frames\n",
        "if not os.path.exists(\"frames\"):\n",
        "    os.makedirs(\"frames\")\n",
        "\n",
        "# Generate frames for the Thrust plot\n",
        "fig, ax = plt.subplots()\n",
        "ax.set_xlabel(\"Time\")\n",
        "ax.set_ylabel(\"Thrust\")\n",
        "ax.set_title(\"Thrust vs Time (72s - 92s)\")\n",
        "ax.set_xlim(72, 92) # Set x-axis limits for consistent plotting\n",
        "ax.set_ylim(df_filtered[\"Thrust\"].min(), df_filtered[\"Thrust\"].max()) # Set y-axis limits based on filtered data\n",
        "\n",
        "for i in range(len(df_filtered)):\n",
        "    ax.plot(df_filtered[\"Time\"][:i], df_filtered[\"Thrust\"][:i], color='blue')\n",
        "    plt.savefig(f\"frames/thrust_frame_{i:04d}.png\")\n",
        "    ax.lines[-1].remove() # Remove the line to draw the next frame\n",
        "\n",
        "plt.close(fig)\n",
        "\n",
        "# Generate frames for the Propellant Flow Rate plot\n",
        "fig, ax = plt.subplots()\n",
        "ax.set_xlabel(\"Time\")\n",
        "ax.set_ylabel(\"Propellant Flow Rate\")\n",
        "ax.set_title(\"Propellant Flow Rate vs Time (72s - 92s)\")\n",
        "ax.set_xlim(72, 92) # Set x-axis limits for consistent plotting\n",
        "ax.set_ylim(df_filtered[\"Propellant Flow Rate\"].min(), df_filtered[\"Propellant Flow Rate\"].max()) # Set y-axis limits based on filtered data\n",
        "\n",
        "\n",
        "for i in range(len(df_filtered)):\n",
        "    ax.plot(df_filtered[\"Time\"][:i], df_filtered[\"Propellant Flow Rate\"][:i], color='red')\n",
        "    plt.savefig(f\"frames/flow_rate_frame_{i:04d}.png\")\n",
        "    ax.lines[-1].remove() # Remove the line to draw the next frame\n",
        "\n",
        "plt.close(fig)\n",
        "\n",
        "print(\"Generated frames for animation in the 'frames' directory.\")"
      ],
      "metadata": {
        "id": "zQ_mREYC2NvY",
        "colab": {
          "base_uri": "https://localhost:8080/"
        },
        "outputId": "ee55c491-7b15-4cd1-dce8-0645ba890243"
      },
      "execution_count": null,
      "outputs": [
        {
          "output_type": "stream",
          "name": "stdout",
          "text": [
            "Mounted at /content/drive\n",
            "Generated frames for animation in the 'frames' directory.\n"
          ]
        }
      ]
    },
    {
      "cell_type": "code",
      "metadata": {
        "colab": {
          "base_uri": "https://localhost:8080/"
        },
        "id": "5ea5917f",
        "outputId": "d77d8d14-e32c-4585-9105-4f62d4d245c9"
      },
      "source": [
        "# Install ffmpeg\n",
        "!apt-get update && apt-get install ffmpeg -y"
      ],
      "execution_count": null,
      "outputs": [
        {
          "output_type": "stream",
          "name": "stdout",
          "text": [
            "\r0% [Working]\r            \rGet:1 https://cloud.r-project.org/bin/linux/ubuntu jammy-cran40/ InRelease [3,632 B]\n",
            "\r0% [Connecting to archive.ubuntu.com] [Connecting to security.ubuntu.com (185.1\r                                                                               \rGet:2 https://cli.github.com/packages stable InRelease [3,917 B]\n",
            "\r0% [Connecting to archive.ubuntu.com] [Connecting to security.ubuntu.com (185.1\r0% [Connecting to archive.ubuntu.com] [Connecting to security.ubuntu.com (185.1\r0% [Connecting to archive.ubuntu.com] [Connecting to security.ubuntu.com (185.1\r                                                                               \rHit:3 https://developer.download.nvidia.com/compute/cuda/repos/ubuntu2204/x86_64  InRelease\n",
            "\r0% [Connecting to archive.ubuntu.com (91.189.91.83)] [Waiting for headers] [Con\r                                                                               \rHit:4 http://archive.ubuntu.com/ubuntu jammy InRelease\n",
            "Get:5 http://security.ubuntu.com/ubuntu jammy-security InRelease [129 kB]\n",
            "Get:6 https://r2u.stat.illinois.edu/ubuntu jammy InRelease [6,555 B]\n",
            "Get:7 http://archive.ubuntu.com/ubuntu jammy-updates InRelease [128 kB]\n",
            "Get:8 https://cli.github.com/packages stable/main amd64 Packages [346 B]\n",
            "Get:9 http://archive.ubuntu.com/ubuntu jammy-backports InRelease [127 kB]\n",
            "Hit:10 https://ppa.launchpadcontent.net/deadsnakes/ppa/ubuntu jammy InRelease\n",
            "Hit:11 https://ppa.launchpadcontent.net/graphics-drivers/ppa/ubuntu jammy InRelease\n",
            "Get:12 https://r2u.stat.illinois.edu/ubuntu jammy/main amd64 Packages [2,807 kB]\n",
            "Hit:13 https://ppa.launchpadcontent.net/ubuntugis/ppa/ubuntu jammy InRelease\n",
            "Get:14 http://archive.ubuntu.com/ubuntu jammy-updates/restricted amd64 Packages [5,779 kB]\n",
            "Get:15 https://r2u.stat.illinois.edu/ubuntu jammy/main all Packages [9,299 kB]\n",
            "Get:16 http://archive.ubuntu.com/ubuntu jammy-updates/universe amd64 Packages [1,577 kB]\n",
            "Get:17 http://archive.ubuntu.com/ubuntu jammy-updates/main amd64 Packages [3,681 kB]\n",
            "Get:18 http://security.ubuntu.com/ubuntu jammy-security/universe amd64 Packages [1,274 kB]\n",
            "Get:19 http://security.ubuntu.com/ubuntu jammy-security/restricted amd64 Packages [5,526 kB]\n",
            "Get:20 http://security.ubuntu.com/ubuntu jammy-security/main amd64 Packages [3,336 kB]\n",
            "Fetched 33.7 MB in 4s (8,806 kB/s)\n",
            "Reading package lists... Done\n",
            "W: Skipping acquire of configured file 'main/source/Sources' as repository 'https://r2u.stat.illinois.edu/ubuntu jammy InRelease' does not seem to provide it (sources.list entry misspelt?)\n",
            "Reading package lists... Done\n",
            "Building dependency tree... Done\n",
            "Reading state information... Done\n",
            "ffmpeg is already the newest version (7:4.4.2-0ubuntu0.22.04.1).\n",
            "0 upgraded, 0 newly installed, 0 to remove and 43 not upgraded.\n"
          ]
        }
      ]
    },
    {
      "cell_type": "code",
      "metadata": {
        "colab": {
          "base_uri": "https://localhost:8080/"
        },
        "id": "107403b8",
        "outputId": "6b6697ae-4a9f-4176-f3fa-1cb4fb2f8b34"
      },
      "source": [
        "# Create video for Thrust animation\n",
        "!ffmpeg -r 10 -i frames/thrust_frame_%04d.png -c:v libx264 -vf \"fps=10,format=yuv420p\" thrust_animation.mp4"
      ],
      "execution_count": null,
      "outputs": [
        {
          "output_type": "stream",
          "name": "stdout",
          "text": [
            "ffmpeg version 4.4.2-0ubuntu0.22.04.1 Copyright (c) 2000-2021 the FFmpeg developers\n",
            "  built with gcc 11 (Ubuntu 11.2.0-19ubuntu1)\n",
            "  configuration: --prefix=/usr --extra-version=0ubuntu0.22.04.1 --toolchain=hardened --libdir=/usr/lib/x86_64-linux-gnu --incdir=/usr/include/x86_64-linux-gnu --arch=amd64 --enable-gpl --disable-stripping --enable-gnutls --enable-ladspa --enable-libaom --enable-libass --enable-libbluray --enable-libbs2b --enable-libcaca --enable-libcdio --enable-libcodec2 --enable-libdav1d --enable-libflite --enable-libfontconfig --enable-libfreetype --enable-libfribidi --enable-libgme --enable-libgsm --enable-libjack --enable-libmp3lame --enable-libmysofa --enable-libopenjpeg --enable-libopenmpt --enable-libopus --enable-libpulse --enable-librabbitmq --enable-librubberband --enable-libshine --enable-libsnappy --enable-libsoxr --enable-libspeex --enable-libsrt --enable-libssh --enable-libtheora --enable-libtwolame --enable-libvidstab --enable-libvorbis --enable-libvpx --enable-libwebp --enable-libx265 --enable-libxml2 --enable-libxvid --enable-libzimg --enable-libzmq --enable-libzvbi --enable-lv2 --enable-omx --enable-openal --enable-opencl --enable-opengl --enable-sdl2 --enable-pocketsphinx --enable-librsvg --enable-libmfx --enable-libdc1394 --enable-libdrm --enable-libiec61883 --enable-chromaprint --enable-frei0r --enable-libx264 --enable-shared\n",
            "  libavutil      56. 70.100 / 56. 70.100\n",
            "  libavcodec     58.134.100 / 58.134.100\n",
            "  libavformat    58. 76.100 / 58. 76.100\n",
            "  libavdevice    58. 13.100 / 58. 13.100\n",
            "  libavfilter     7.110.100 /  7.110.100\n",
            "  libswscale      5.  9.100 /  5.  9.100\n",
            "  libswresample   3.  9.100 /  3.  9.100\n",
            "  libpostproc    55.  9.100 / 55.  9.100\n",
            "Input #0, image2, from 'frames/thrust_frame_%04d.png':\n",
            "  Duration: 00:01:20.04, start: 0.000000, bitrate: N/A\n",
            "  Stream #0:0: Video: png, rgba(pc), 640x480 [SAR 3937:3937 DAR 4:3], 25 fps, 25 tbr, 25 tbn, 25 tbc\n",
            "Stream mapping:\n",
            "  Stream #0:0 -> #0:0 (png (native) -> h264 (libx264))\n",
            "Press [q] to stop, [?] for help\n",
            "\u001b[1;36m[libx264 @ 0x5a24e5c1bec0] \u001b[0musing SAR=1/1\n",
            "\u001b[1;36m[libx264 @ 0x5a24e5c1bec0] \u001b[0musing cpu capabilities: MMX2 SSE2Fast SSSE3 SSE4.2 AVX FMA3 BMI2 AVX2\n",
            "\u001b[1;36m[libx264 @ 0x5a24e5c1bec0] \u001b[0mprofile High, level 2.2, 4:2:0, 8-bit\n",
            "\u001b[1;36m[libx264 @ 0x5a24e5c1bec0] \u001b[0m264 - core 163 r3060 5db6aa6 - H.264/MPEG-4 AVC codec - Copyleft 2003-2021 - http://www.videolan.org/x264.html - options: cabac=1 ref=3 deblock=1:0:0 analyse=0x3:0x113 me=hex subme=7 psy=1 psy_rd=1.00:0.00 mixed_ref=1 me_range=16 chroma_me=1 trellis=1 8x8dct=1 cqm=0 deadzone=21,11 fast_pskip=1 chroma_qp_offset=-2 threads=3 lookahead_threads=1 sliced_threads=0 nr=0 decimate=1 interlaced=0 bluray_compat=0 constrained_intra=0 bframes=3 b_pyramid=2 b_adapt=1 b_bias=0 direct=1 weightb=1 open_gop=0 weightp=2 keyint=250 keyint_min=10 scenecut=40 intra_refresh=0 rc_lookahead=40 rc=crf mbtree=1 crf=23.0 qcomp=0.60 qpmin=0 qpmax=69 qpstep=4 ip_ratio=1.40 aq=1:1.00\n",
            "Output #0, mp4, to 'thrust_animation.mp4':\n",
            "  Metadata:\n",
            "    encoder         : Lavf58.76.100\n",
            "  Stream #0:0: Video: h264 (avc1 / 0x31637661), yuv420p(tv, progressive), 640x480 [SAR 1:1 DAR 4:3], q=2-31, 10 fps, 10240 tbn\n",
            "    Metadata:\n",
            "      encoder         : Lavc58.134.100 libx264\n",
            "    Side data:\n",
            "      cpb: bitrate max/min/avg: 0/0/0 buffer size: 0 vbv_delay: N/A\n",
            "frame= 2001 fps=132 q=-1.0 Lsize=     200kB time=00:03:19.80 bitrate=   8.2kbits/s speed=13.2x    \n",
            "video:175kB audio:0kB subtitle:0kB other streams:0kB global headers:0kB muxing overhead: 13.842126%\n",
            "\u001b[1;36m[libx264 @ 0x5a24e5c1bec0] \u001b[0mframe I:9     Avg QP: 7.86  size: 10222\n",
            "\u001b[1;36m[libx264 @ 0x5a24e5c1bec0] \u001b[0mframe P:508   Avg QP:16.65  size:    78\n",
            "\u001b[1;36m[libx264 @ 0x5a24e5c1bec0] \u001b[0mframe B:1484  Avg QP:18.44  size:    32\n",
            "\u001b[1;36m[libx264 @ 0x5a24e5c1bec0] \u001b[0mconsecutive B-frames:  1.0%  0.2%  0.4% 98.4%\n",
            "\u001b[1;36m[libx264 @ 0x5a24e5c1bec0] \u001b[0mmb I  I16..4: 75.2% 11.2% 13.6%\n",
            "\u001b[1;36m[libx264 @ 0x5a24e5c1bec0] \u001b[0mmb P  I16..4:  0.0%  0.0%  0.0%  P16..4:  0.1%  0.0%  0.0%  0.0%  0.0%    skip:99.8%\n",
            "\u001b[1;36m[libx264 @ 0x5a24e5c1bec0] \u001b[0mmb B  I16..4:  0.0%  0.0%  0.0%  B16..8:  0.1%  0.0%  0.0%  direct: 0.0%  skip:99.8%  L0:55.7% L1:41.7% BI: 2.7%\n",
            "\u001b[1;36m[libx264 @ 0x5a24e5c1bec0] \u001b[0m8x8 transform intra:11.6% inter:1.9%\n",
            "\u001b[1;36m[libx264 @ 0x5a24e5c1bec0] \u001b[0mcoded y,uvDC,uvAC intra: 8.0% 5.1% 4.9% inter: 0.0% 0.0% 0.0%\n",
            "\u001b[1;36m[libx264 @ 0x5a24e5c1bec0] \u001b[0mi16 v,h,dc,p: 88%  8%  5%  0%\n",
            "\u001b[1;36m[libx264 @ 0x5a24e5c1bec0] \u001b[0mi8 v,h,dc,ddl,ddr,vr,hd,vl,hu: 26% 39% 35%  0%  0%  0%  0%  0%  0%\n",
            "\u001b[1;36m[libx264 @ 0x5a24e5c1bec0] \u001b[0mi4 v,h,dc,ddl,ddr,vr,hd,vl,hu: 33% 27% 26%  2%  2%  3%  3%  3%  2%\n",
            "\u001b[1;36m[libx264 @ 0x5a24e5c1bec0] \u001b[0mi8c dc,h,v,p: 93%  2%  5%  0%\n",
            "\u001b[1;36m[libx264 @ 0x5a24e5c1bec0] \u001b[0mWeighted P-Frames: Y:0.0% UV:0.0%\n",
            "\u001b[1;36m[libx264 @ 0x5a24e5c1bec0] \u001b[0mref P L0: 81.6%  2.3%  7.3%  8.8%\n",
            "\u001b[1;36m[libx264 @ 0x5a24e5c1bec0] \u001b[0mref B L0: 61.4% 35.9%  2.6%\n",
            "\u001b[1;36m[libx264 @ 0x5a24e5c1bec0] \u001b[0mref B L1: 96.1%  3.9%\n",
            "\u001b[1;36m[libx264 @ 0x5a24e5c1bec0] \u001b[0mkb/s:7.15\n"
          ]
        }
      ]
    },
    {
      "cell_type": "code",
      "metadata": {
        "colab": {
          "base_uri": "https://localhost:8080/"
        },
        "id": "95157270",
        "outputId": "f291e34b-7814-4d41-b883-1446bb1a5352"
      },
      "source": [
        "# Create video for Propellant Flow Rate animation\n",
        "!ffmpeg -r 10 -i frames/flow_rate_frame_%04d.png -c:v libx264 -vf \"fps=10,format=yuv420p\" flow_rate_animation.mp4"
      ],
      "execution_count": null,
      "outputs": [
        {
          "output_type": "stream",
          "name": "stdout",
          "text": [
            "ffmpeg version 4.4.2-0ubuntu0.22.04.1 Copyright (c) 2000-2021 the FFmpeg developers\n",
            "  built with gcc 11 (Ubuntu 11.2.0-19ubuntu1)\n",
            "  configuration: --prefix=/usr --extra-version=0ubuntu0.22.04.1 --toolchain=hardened --libdir=/usr/lib/x86_64-linux-gnu --incdir=/usr/include/x86_64-linux-gnu --arch=amd64 --enable-gpl --disable-stripping --enable-gnutls --enable-ladspa --enable-libaom --enable-libass --enable-libbluray --enable-libbs2b --enable-libcaca --enable-libcdio --enable-libcodec2 --enable-libdav1d --enable-libflite --enable-libfontconfig --enable-libfreetype --enable-libfribidi --enable-libgme --enable-libgsm --enable-libjack --enable-libmp3lame --enable-libmysofa --enable-libopenjpeg --enable-libopenmpt --enable-libopus --enable-libpulse --enable-librabbitmq --enable-librubberband --enable-libshine --enable-libsnappy --enable-libsoxr --enable-libspeex --enable-libsrt --enable-libssh --enable-libtheora --enable-libtwolame --enable-libvidstab --enable-libvorbis --enable-libvpx --enable-libwebp --enable-libx265 --enable-libxml2 --enable-libxvid --enable-libzimg --enable-libzmq --enable-libzvbi --enable-lv2 --enable-omx --enable-openal --enable-opencl --enable-opengl --enable-sdl2 --enable-pocketsphinx --enable-librsvg --enable-libmfx --enable-libdc1394 --enable-libdrm --enable-libiec61883 --enable-chromaprint --enable-frei0r --enable-libx264 --enable-shared\n",
            "  libavutil      56. 70.100 / 56. 70.100\n",
            "  libavcodec     58.134.100 / 58.134.100\n",
            "  libavformat    58. 76.100 / 58. 76.100\n",
            "  libavdevice    58. 13.100 / 58. 13.100\n",
            "  libavfilter     7.110.100 /  7.110.100\n",
            "  libswscale      5.  9.100 /  5.  9.100\n",
            "  libswresample   3.  9.100 /  3.  9.100\n",
            "  libpostproc    55.  9.100 / 55.  9.100\n",
            "Input #0, image2, from 'frames/flow_rate_frame_%04d.png':\n",
            "  Duration: 00:01:20.04, start: 0.000000, bitrate: N/A\n",
            "  Stream #0:0: Video: png, rgba(pc), 640x480 [SAR 3937:3937 DAR 4:3], 25 fps, 25 tbr, 25 tbn, 25 tbc\n",
            "Stream mapping:\n",
            "  Stream #0:0 -> #0:0 (png (native) -> h264 (libx264))\n",
            "Press [q] to stop, [?] for help\n",
            "\u001b[1;36m[libx264 @ 0x5a422bcdaa80] \u001b[0musing SAR=1/1\n",
            "\u001b[1;36m[libx264 @ 0x5a422bcdaa80] \u001b[0musing cpu capabilities: MMX2 SSE2Fast SSSE3 SSE4.2 AVX FMA3 BMI2 AVX2\n",
            "\u001b[1;36m[libx264 @ 0x5a422bcdaa80] \u001b[0mprofile High, level 2.2, 4:2:0, 8-bit\n",
            "\u001b[1;36m[libx264 @ 0x5a422bcdaa80] \u001b[0m264 - core 163 r3060 5db6aa6 - H.264/MPEG-4 AVC codec - Copyleft 2003-2021 - http://www.videolan.org/x264.html - options: cabac=1 ref=3 deblock=1:0:0 analyse=0x3:0x113 me=hex subme=7 psy=1 psy_rd=1.00:0.00 mixed_ref=1 me_range=16 chroma_me=1 trellis=1 8x8dct=1 cqm=0 deadzone=21,11 fast_pskip=1 chroma_qp_offset=-2 threads=3 lookahead_threads=1 sliced_threads=0 nr=0 decimate=1 interlaced=0 bluray_compat=0 constrained_intra=0 bframes=3 b_pyramid=2 b_adapt=1 b_bias=0 direct=1 weightb=1 open_gop=0 weightp=2 keyint=250 keyint_min=10 scenecut=40 intra_refresh=0 rc_lookahead=40 rc=crf mbtree=1 crf=23.0 qcomp=0.60 qpmin=0 qpmax=69 qpstep=4 ip_ratio=1.40 aq=1:1.00\n",
            "Output #0, mp4, to 'flow_rate_animation.mp4':\n",
            "  Metadata:\n",
            "    encoder         : Lavf58.76.100\n",
            "  Stream #0:0: Video: h264 (avc1 / 0x31637661), yuv420p(tv, progressive), 640x480 [SAR 1:1 DAR 4:3], q=2-31, 10 fps, 10240 tbn\n",
            "    Metadata:\n",
            "      encoder         : Lavc58.134.100 libx264\n",
            "    Side data:\n",
            "      cpb: bitrate max/min/avg: 0/0/0 buffer size: 0 vbv_delay: N/A\n",
            "frame= 2001 fps=129 q=-1.0 Lsize=     194kB time=00:03:19.80 bitrate=   8.0kbits/s speed=12.8x    \n",
            "video:170kB audio:0kB subtitle:0kB other streams:0kB global headers:0kB muxing overhead: 14.303060%\n",
            "\u001b[1;36m[libx264 @ 0x5a422bcdaa80] \u001b[0mframe I:9     Avg QP: 8.48  size: 11218\n",
            "\u001b[1;36m[libx264 @ 0x5a422bcdaa80] \u001b[0mframe P:504   Avg QP: 9.19  size:    66\n",
            "\u001b[1;36m[libx264 @ 0x5a422bcdaa80] \u001b[0mframe B:1488  Avg QP:10.76  size:    26\n",
            "\u001b[1;36m[libx264 @ 0x5a422bcdaa80] \u001b[0mconsecutive B-frames:  0.7%  0.2%  0.3% 98.8%\n",
            "\u001b[1;36m[libx264 @ 0x5a422bcdaa80] \u001b[0mmb I  I16..4: 72.0% 14.4% 13.6%\n",
            "\u001b[1;36m[libx264 @ 0x5a422bcdaa80] \u001b[0mmb P  I16..4:  0.0%  0.0%  0.0%  P16..4:  0.1%  0.1%  0.0%  0.0%  0.0%    skip:99.8%\n",
            "\u001b[1;36m[libx264 @ 0x5a422bcdaa80] \u001b[0mmb B  I16..4:  0.0%  0.0%  0.0%  B16..8:  0.1%  0.0%  0.0%  direct: 0.0%  skip:99.9%  L0:55.2% L1:42.3% BI: 2.5%\n",
            "\u001b[1;36m[libx264 @ 0x5a422bcdaa80] \u001b[0m8x8 transform intra:14.4% inter:5.2%\n",
            "\u001b[1;36m[libx264 @ 0x5a422bcdaa80] \u001b[0mcoded y,uvDC,uvAC intra: 9.1% 4.9% 4.8% inter: 0.0% 0.0% 0.0%\n",
            "\u001b[1;36m[libx264 @ 0x5a422bcdaa80] \u001b[0mi16 v,h,dc,p: 88%  8%  5%  0%\n",
            "\u001b[1;36m[libx264 @ 0x5a422bcdaa80] \u001b[0mi8 v,h,dc,ddl,ddr,vr,hd,vl,hu: 44%  3% 52%  1%  0%  0%  0%  0%  0%\n",
            "\u001b[1;36m[libx264 @ 0x5a422bcdaa80] \u001b[0mi4 v,h,dc,ddl,ddr,vr,hd,vl,hu: 32% 32% 21%  2%  2%  3%  2%  3%  2%\n",
            "\u001b[1;36m[libx264 @ 0x5a422bcdaa80] \u001b[0mi8c dc,h,v,p: 94%  2%  4%  0%\n",
            "\u001b[1;36m[libx264 @ 0x5a422bcdaa80] \u001b[0mWeighted P-Frames: Y:0.0% UV:0.0%\n",
            "\u001b[1;36m[libx264 @ 0x5a422bcdaa80] \u001b[0mref P L0: 87.6%  2.0%  3.3%  7.2%\n",
            "\u001b[1;36m[libx264 @ 0x5a422bcdaa80] \u001b[0mref B L0: 58.6% 39.2%  2.2%\n",
            "\u001b[1;36m[libx264 @ 0x5a422bcdaa80] \u001b[0mref B L1: 96.7%  3.3%\n",
            "\u001b[1;36m[libx264 @ 0x5a422bcdaa80] \u001b[0mkb/s:6.92\n"
          ]
        }
      ]
    }
  ]
}